{
 "cells": [
  {
   "cell_type": "code",
   "execution_count": null,
   "metadata": {},
   "outputs": [],
   "source": [
    "import time\n",
    "from tqdm import tqdm\n",
    "import numpy as np\n",
    "import pandas as pd\n",
    "import collections\n",
    "from numpy import random\n",
    "from sklearn.model_selection import train_test_split\n",
    "from sklearn.metrics import roc_auc_score\n",
    "from sklearn.metrics import average_precision_score\n",
    "from collections import OrderedDict\n",
    "import re\n",
    "import gzip\n",
    "from Bio import SeqIO\n",
    "\n",
    "import torch.nn.functional as F\n",
    "import torch.utils.data\n",
    "import torch.nn as nn\n",
    "from torch import relu, sigmoid\n",
    "import torch.nn.modules.activation as activation\n",
    "import matplotlib\n",
    "import os\n",
    "import sys\n",
    "import copy\n",
    "matplotlib.use('Agg')\n",
    "from scipy.spatial import distance\n",
    "from scipy.spatial.distance import cdist\n",
    "from sklearn import metrics\n",
    "import matplotlib.pyplot as plt\n",
    "import plotly.graph_objects as go\n",
    "import plotly.figure_factory as ff\n",
    "import pickle\n",
    "from Bio.SeqUtils import GC\n",
    "\n",
    "import h5py\n",
    "import kipoi\n",
    "#import seaborn as sns\n",
    "\n",
    "import warnings\n",
    "warnings.filterwarnings('ignore')"
   ]
  },
  {
   "cell_type": "markdown",
   "metadata": {},
   "source": [
    "## Building the matrix"
   ]
  },
  {
   "cell_type": "code",
   "execution_count": null,
   "metadata": {},
   "outputs": [],
   "source": [
    "#loading samples/regions/tf information\n",
    "with gzip.open('../data/idx_files/regions_idx.pickle.gz', 'rb') as f:\n",
    "    regions = pickle.load(f) #1817918\n",
    "    \n",
    "with gzip.open('../data/idx_files/samples_idx.pickle.gz', 'rb') as f:\n",
    "    samples = pickle.load(f) #52\n",
    "    \n",
    "with gzip.open('../data/idx_files/tfs_idx.pickle.gz', 'rb') as f:\n",
    "    tfs = pickle.load(f) #163\n",
    "    \n",
    "tfs = pd.Series(tfs).sort_values()\n",
    "regions = pd.Series(regions).sort_values()"
   ]
  },
  {
   "cell_type": "code",
   "execution_count": null,
   "metadata": {},
   "outputs": [],
   "source": [
    "#loading the matrices\n",
    "data = np.load(\"../data/matrices/matrix2d.ReMap+UniBind.partial.npz\")\n",
    "\n",
    "for i in data.files:\n",
    "    matrix2d_partial = data[i] #(1817918, 163)\n",
    "    \n",
    "data = np.load(\"../data/matrices/matrix2d.ReMap+UniBind.full.npz\")\n",
    "\n",
    "for i in data.files:\n",
    "    matrix2d_full = data[i] #(1817918, 163)\n",
    "    \n",
    "data = np.load(\"../data/matrices/matrix2d.ReMap+UniBind.sparse.npz\")\n",
    "\n",
    "for i in data.files:\n",
    "    matrix2d_sparse = data[i] #(1817918, 163)"
   ]
  },
  {
   "cell_type": "code",
   "execution_count": null,
   "metadata": {},
   "outputs": [],
   "source": [
    "df_sparse = pd.DataFrame(data=matrix2d_sparse, index=regions.index, columns=tfs.index)"
   ]
  },
  {
   "cell_type": "code",
   "execution_count": null,
   "metadata": {},
   "outputs": [],
   "source": [
    "df_sparse.shape"
   ]
  },
  {
   "cell_type": "code",
   "execution_count": null,
   "metadata": {},
   "outputs": [],
   "source": [
    "#sort by ones\n",
    "ones = {}\n",
    "resolved = {}\n",
    "for tf in list(df_sparse):\n",
    "    ones[tf] = df_sparse[tf].dropna().sum()\n",
    "    resolved[tf] = df_sparse[tf].dropna().shape[0]\n",
    "    \n",
    "ones = pd.Series(ones)\n",
    "resolved = pd.Series(resolved)"
   ]
  },
  {
   "cell_type": "code",
   "execution_count": null,
   "metadata": {},
   "outputs": [],
   "source": [
    "ones = ones.sort_values(ascending=False)\n",
    "resolved = resolved.sort_values(ascending=False)"
   ]
  },
  {
   "cell_type": "code",
   "execution_count": null,
   "metadata": {},
   "outputs": [],
   "source": [
    "fig = go.Figure([go.Bar(x=ones.index, y=ones.values)])\n",
    "\n",
    "fig.update_layout(title='',\n",
    "                   xaxis_title='TFs',\n",
    "                   yaxis_title='Number of peaks',\n",
    "                 plot_bgcolor='rgba(0,0,0,0)', paper_bgcolor='rgba(0,0,0,0)')\n",
    "\n",
    "fig.update_xaxes(showline=True, linewidth=2, linecolor='black')\n",
    "fig.update_xaxes(tickfont=dict(size=5))\n",
    "fig.update_yaxes(showline=True, linewidth=2, linecolor='black')\n",
    "\n",
    "fig.update_layout(title='',\n",
    "                 font=dict(\n",
    "                     family=\"Courier New, monospace\",\n",
    "                     size=18,\n",
    "                     color=\"black\"\n",
    "                 ))\n",
    "\n",
    "fig.update_layout(autosize=False,width=1600,height=800)\n",
    "\n",
    "fig.show()"
   ]
  },
  {
   "cell_type": "markdown",
   "metadata": {},
   "source": [
    "## Analysis of partial data"
   ]
  },
  {
   "cell_type": "code",
   "execution_count": null,
   "metadata": {},
   "outputs": [],
   "source": [
    "df = pd.DataFrame(data=matrix2d_partial, index=regions.index, columns=tfs.index)\n",
    "#df_sparse = pd.DataFrame(data=matrix2d_sparse, index=regions.index, columns=tfs.index)\n",
    "\n",
    "with open(\"../data/Analyzed_TFs.txt\", \"w\") as f:\n",
    "    for tf in list(df):\n",
    "        f.write(tf + \"\\n\")\n",
    "        \n",
    "#copy of the original data frame\n",
    "df_to_save = df.copy()\n",
    "\n",
    "df_to_save.index = regions[df_to_save.index].values\n",
    "df_to_save.index = df_to_save.index.map(str)\n",
    "\n",
    "#saving the data frame for the later usage\n",
    "with open('../data/final_df.pkl', 'wb') as f:\n",
    "    pickle.dump(df_to_save, f)\n",
    "    \n",
    "#Count non-NA cells for each column or row.\n",
    "counts = df.count()\n",
    "\n",
    "#numbers of not nones (resolved)\n",
    "fig = go.Figure([go.Bar(x=counts.index, y=counts.values)])\n",
    "\n",
    "fig.update_layout(title='Majority of TFs dont have a lot of resolved regions',\n",
    "                   xaxis_title='TFs',\n",
    "                   yaxis_title='Number of peaks',\n",
    "                 plot_bgcolor='rgba(0,0,0,0)', paper_bgcolor='rgba(0,0,0,0)')\n",
    "\n",
    "fig.update_xaxes(showline=True, linewidth=2, linecolor='black')\n",
    "fig.update_yaxes(showline=True, linewidth=2, linecolor='black')\n",
    "\n",
    "fig.show()"
   ]
  },
  {
   "cell_type": "code",
   "execution_count": null,
   "metadata": {},
   "outputs": [],
   "source": [
    "nan_sums = df.isna().sum()\n",
    "\n",
    "#calculate the number of None regions per TF\n",
    "nan_sums = df.isna().sum()\n",
    "\n",
    "nan_perc = nan_sums/df.shape[0]*100\n",
    "nan_perc = nan_perc.sort_values(ascending=True)\n",
    "\n",
    "fig = go.Figure([go.Bar(x=list(nan_perc.index), y=nan_perc)])\n",
    "\n",
    "fig['layout'].update(shapes=[{'type': 'line','y0':50,'y1': 50,'x0':nan_perc.index[0], \n",
    "                              'x1':nan_perc.index[-1],'xref':'x1','yref':'y1',\n",
    "                              'line': {'color': 'red','width': 2.5}}])\n",
    "\n",
    "fig.update_layout(title='Majority of TFs have more than 50% of regions as Nans',\n",
    "                   xaxis_title='TFs',\n",
    "                   yaxis_title='Percentage of Nones',\n",
    "                 plot_bgcolor='rgba(0,0,0,0)', paper_bgcolor='rgba(0,0,0,0)')\n",
    "\n",
    "fig.update_xaxes(showline=True, linewidth=2, linecolor='black')\n",
    "fig.update_yaxes(showline=True, linewidth=2, linecolor='black')\n",
    "\n",
    "fig.show()"
   ]
  },
  {
   "cell_type": "markdown",
   "metadata": {},
   "source": [
    "## Analysis of sequences GC content"
   ]
  },
  {
   "cell_type": "code",
   "execution_count": null,
   "metadata": {},
   "outputs": [],
   "source": [
    "fasta_sequences = SeqIO.parse(open(\"../data/sequences/sequences.200bp.fa\"),'fasta')\n",
    "    \n",
    "all_gc_content = {}\n",
    "for fasta in fasta_sequences:\n",
    "    name, sequence = fasta.id, str(fasta.seq)\n",
    "    \n",
    "    #new format sequence file\n",
    "    name = name.split(\":\")[0]\n",
    "          \n",
    "    all_gc_content[name] = GC(sequence.upper())\n",
    "    \n",
    "#get GC content for the specified TF\n",
    "def get_gc_content(tf):\n",
    "    tf_peaks = df[tf]\n",
    "    tf_peaks = tf_peaks.dropna()\n",
    "    \n",
    "    res_gc_content = all_gc_content[regions[tf_peaks.index].values]\n",
    "    \n",
    "    return res_gc_content\n",
    "\n",
    "all_gc_content = pd.Series(all_gc_content)\n",
    "\n",
    "top5_gc_content = get_gc_content(nan_perc.index[:5].tolist()) \n",
    "top10_gc_content = get_gc_content(nan_perc.index[:10].tolist()) \n",
    "top20_gc_content = get_gc_content(nan_perc.index[:20].tolist())\n",
    "\n",
    "top30_gc_content = get_gc_content(nan_perc.index[:30].tolist()) \n",
    "top40_gc_content = get_gc_content(nan_perc.index[:40].tolist()) \n",
    "top50_gc_content = get_gc_content(nan_perc.index[:50].tolist()) \n",
    "\n",
    "top60_gc_content = get_gc_content(nan_perc.index[:60].tolist()) \n",
    "top70_gc_content = get_gc_content(nan_perc.index[:70].tolist()) \n",
    "top80_gc_content = get_gc_content(nan_perc.index[:80].tolist()) \n",
    "\n",
    "top90_gc_content = get_gc_content(nan_perc.index[:90].tolist()) \n",
    "top100_gc_content = get_gc_content(nan_perc.index[:100].tolist()) \n",
    "top110_gc_content = get_gc_content(nan_perc.index[:110].tolist()) \n",
    " \n",
    "top120_gc_content = get_gc_content(nan_perc.index[:120].tolist()) \n",
    "top130_gc_content = get_gc_content(nan_perc.index[:130].tolist()) \n",
    "top140_gc_content = get_gc_content(nan_perc.index[:140].tolist()) \n",
    "\n",
    "top150_gc_content = get_gc_content(nan_perc.index[:150].tolist()) \n",
    "top160_gc_content = get_gc_content(nan_perc.index[:160].tolist()) \n",
    "alltf_gc_content = get_gc_content(nan_perc.index.tolist()) "
   ]
  },
  {
   "cell_type": "code",
   "execution_count": null,
   "metadata": {},
   "outputs": [],
   "source": [
    "#how many regions we have if we keep only most resolved TFs?\n",
    "tf_num = [0,5,10,20,30,40,50,60,70,80,90,100,110,120,130,140,150,160,170]\n",
    "num_peaks = [len(all_gc_content), len(top5_gc_content), len(top10_gc_content),\n",
    "            len(top20_gc_content), len(top30_gc_content), len(top40_gc_content),\n",
    "            len(top50_gc_content), len(top60_gc_content), len(top70_gc_content),\n",
    "            len(top80_gc_content), len(top90_gc_content), len(top100_gc_content),\n",
    "            len(top110_gc_content), len(top120_gc_content), len(top130_gc_content),\n",
    "            len(top140_gc_content), len(top150_gc_content), len(top160_gc_content), len(alltf_gc_content)]\n",
    "\n",
    "fig = go.Figure()\n",
    "fig.add_trace(go.Scatter(x=tf_num, y=num_peaks,\n",
    "                          line=dict(color='royalblue', width=4),\n",
    "                          mode='lines', name = \"New matrix\"))\n",
    "\n",
    "fig.update_layout(title='Numbers of peaks per TF',\n",
    "                   xaxis_title='Number of TFs',\n",
    "                   yaxis_title='Number of peaks',\n",
    "                 plot_bgcolor='rgba(0,0,0,0)', paper_bgcolor='rgba(0,0,0,0)')\n",
    "fig.update_xaxes(showline=True, linewidth=2, linecolor='black')\n",
    "fig.update_yaxes(showline=True, linewidth=2, linecolor='black')\n",
    "\n",
    "fig.show()"
   ]
  },
  {
   "cell_type": "code",
   "execution_count": null,
   "metadata": {},
   "outputs": [],
   "source": [
    "#Density plot of GC content\n",
    "fig = ff.create_distplot([all_gc_content,top5_gc_content,top10_gc_content,\n",
    "                         top20_gc_content, top50_gc_content, top60_gc_content], \n",
    "                         [\"All_peaks\", \"Top_5\",\"Top_10\", \"Top_20\", \"Top_50\", \"Top_60\"], \n",
    "                         colors=[\"blue\", \"green\", \"black\", \"pink\", \"darkblue\", \"crimson\"],\n",
    "                         show_rug=False, show_hist=False)\n",
    "\n",
    "# Add title\n",
    "fig.update_layout(title_text='GC distribution, new matrix', plot_bgcolor='rgba(0,0,0,0)', paper_bgcolor='rgba(0,0,0,0)')\n",
    "fig.update_xaxes(showline=True, linewidth=2, linecolor='black')\n",
    "fig.update_yaxes(showline=True, linewidth=2, linecolor='black')\n",
    "fig.show()"
   ]
  },
  {
   "cell_type": "code",
   "execution_count": null,
   "metadata": {},
   "outputs": [],
   "source": [
    "#select first 50 TFs from a sorted by number of resolved regions list\n",
    "tf_peaks_50 = df[nan_perc.index[:50].tolist()]\n",
    "tf_peaks_50 = tf_peaks_50.dropna() #(122428, 50)\n",
    "tf_peaks_50.shape"
   ]
  },
  {
   "cell_type": "code",
   "execution_count": null,
   "metadata": {},
   "outputs": [],
   "source": [
    "perc_50 = tf_peaks_50.sum(axis=0)/tf_peaks_50.shape[0]*100\n",
    "\n",
    "fig = go.Figure([go.Bar(x=list(perc_50.index), y=perc_50)])\n",
    "\n",
    "fig.update_layout(title_text='(50 TFs) The most represented TF (CTCF) has around 30% of positives',\n",
    "                  xaxis_title='TFs',\n",
    "                  yaxis_title='Percentage of 1s',\n",
    "                  plot_bgcolor='rgba(0,0,0,0)', paper_bgcolor='rgba(0,0,0,0)')\n",
    "fig.update_xaxes(showline=True, linewidth=2, linecolor='black')\n",
    "fig.update_yaxes(showline=True, linewidth=2, linecolor='black')\n",
    "\n",
    "fig.show()"
   ]
  },
  {
   "cell_type": "code",
   "execution_count": null,
   "metadata": {},
   "outputs": [],
   "source": [
    "tf_sum_50 = tf_peaks_50.sum(axis=1)\n",
    "tf_zerosum_50 = tf_sum_50[np.where(tf_sum_50 == 0)[0]]\n",
    "\n",
    "print(\"Number of zero rows in the 50 df\")\n",
    "print(len(tf_zerosum_50))"
   ]
  },
  {
   "cell_type": "code",
   "execution_count": null,
   "metadata": {},
   "outputs": [],
   "source": [
    "seq_names_50 = regions[tf_peaks_50.index].values\n",
    "fasta_ids_50 = []\n",
    "fasta_sequences_50 = {}\n",
    "\n",
    "#ALL SEQUENCES\n",
    "fasta_sequences = SeqIO.parse(open(\"../data/sequences/sequences.200bp.fa\"),'fasta')\n",
    "    \n",
    "#get fasta sequences and delete NaNs    \n",
    "with open(\"../data/sequences/tf_peaks_50_noN_unibind_remap.fa\", \"w\") as f:\n",
    "    for fasta in fasta_sequences:\n",
    "        name, sequence = fasta.id, str(fasta.seq)\n",
    "        \n",
    "        #new format sequence file\n",
    "        name = name.split(\":\")[0]\n",
    "        \n",
    "        if int(name) in seq_names_50:\n",
    "            #remove sequences with Ns\n",
    "            if \"N\" in sequence.upper():\n",
    "                print(name)\n",
    "                continue\n",
    "            else:\n",
    "                fasta_ids_50.append(int(name))\n",
    "                fasta_sequences_50[int(name)] = sequence.upper()\n",
    "                f.write(\">\" + name + \"\\n\")\n",
    "                f.write(sequence.upper() + \"\\n\")"
   ]
  },
  {
   "cell_type": "code",
   "execution_count": null,
   "metadata": {},
   "outputs": [],
   "source": [
    "fasta_sequences_50 = pd.Series(fasta_sequences_50)\n",
    "\n",
    "np.all(regions.values == np.array(range(1817918)))"
   ]
  },
  {
   "cell_type": "code",
   "execution_count": null,
   "metadata": {},
   "outputs": [],
   "source": [
    "fasta_ids_50_noNs = regions[fasta_ids_50]\n",
    "\n",
    "tf_peaks_50_noNs = tf_peaks_50.loc[fasta_ids_50_noNs.index,:] #remove Ns sequences\n",
    "tf_peaks_50_noNs = tf_peaks_50_noNs.astype(int)\n",
    "tf_peaks_50_noNs.index = fasta_ids_50_noNs[tf_peaks_50_noNs.index].values\n",
    "\n",
    "tf_peaks_50_noNs.shape"
   ]
  },
  {
   "cell_type": "code",
   "execution_count": null,
   "metadata": {},
   "outputs": [],
   "source": [
    "#save the matrix\n",
    "with open('../data/tf_peaks_50_noNs_partial.pkl', 'wb') as f:\n",
    "    pickle.dump(tf_peaks_50_noNs, f)\n",
    "    \n",
    "#save the fasta sequences\n",
    "with open('../data/fasta_sequences_50_partial.pkl', 'wb') as f:\n",
    "    pickle.dump(fasta_sequences_50, f)"
   ]
  }
 ],
 "metadata": {
  "kernelspec": {
   "display_name": "Python 3",
   "language": "python",
   "name": "python3"
  },
  "language_info": {
   "codemirror_mode": {
    "name": "ipython",
    "version": 3
   },
   "file_extension": ".py",
   "mimetype": "text/x-python",
   "name": "python",
   "nbconvert_exporter": "python",
   "pygments_lexer": "ipython3",
   "version": "3.8.1"
  }
 },
 "nbformat": 4,
 "nbformat_minor": 4
}
