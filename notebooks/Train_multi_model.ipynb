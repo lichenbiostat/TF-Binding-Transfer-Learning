{
 "cells": [
  {
   "cell_type": "code",
   "execution_count": null,
   "metadata": {},
   "outputs": [],
   "source": [
    "from tools import *\n",
    "from models import *\n",
    "import plotly.graph_objects as go\n",
    "import plotly.figure_factory as ff\n",
    "from Bio.SeqUtils import GC\n",
    "import pickle\n",
    "\n",
    "import warnings\n",
    "warnings.filterwarnings('ignore')"
   ]
  },
  {
   "cell_type": "code",
   "execution_count": null,
   "metadata": {},
   "outputs": [],
   "source": [
    "#for reproducibility\n",
    "seed = 42\n",
    "np.random.seed(seed)\n",
    "torch.manual_seed(seed)"
   ]
  },
  {
   "cell_type": "code",
   "execution_count": null,
   "metadata": {},
   "outputs": [],
   "source": [
    "#CONSTANTS AND HYPERPARAMETERS (add to yaml)\n",
    "# Device configuration\n",
    "device = torch.device('cuda:0' if torch.cuda.is_available() else 'cpu')\n",
    "\n",
    "# Hyper parameters\n",
    "num_epochs = 15\n",
    "batch_size = 100\n",
    "learning_rate = 0.003 "
   ]
  },
  {
   "cell_type": "markdown",
   "metadata": {},
   "source": [
    "## Train UniBind+ReMap.partial"
   ]
  },
  {
   "cell_type": "markdown",
   "metadata": {},
   "source": [
    "Split the data set"
   ]
  },
  {
   "cell_type": "markdown",
   "metadata": {},
   "source": [
    "**python split_the_dataset.py ../data/tf_peaks_50_noNs_partial.pkl 1 ../data/fasta_sequences_50_partial.pkl 0.1 0.1 ../data/tf_peaks_50_partial.h5 True**"
   ]
  },
  {
   "cell_type": "code",
   "execution_count": null,
   "metadata": {},
   "outputs": [],
   "source": [
    "dataloaders, target_labels, train_out = load_datas(\"../data/tf_peaks_50_partial.h5\", batch_size)"
   ]
  },
  {
   "cell_type": "code",
   "execution_count": null,
   "metadata": {},
   "outputs": [],
   "source": [
    "#decode sequences\n",
    "target_labels = [i.decode(\"utf-8\") for i in target_labels]\n",
    "\n",
    "with open('../data/multi_model_target_labels.pkl', 'wb') as f:\n",
    "    pickle.dump(target_labels, f)"
   ]
  },
  {
   "cell_type": "code",
   "execution_count": null,
   "metadata": {},
   "outputs": [],
   "source": [
    "num_classes = len(target_labels) #number of classes\n",
    "\n",
    "model = ConvNetDeep(num_classes).to(device)\n",
    "\n",
    "criterion = nn.BCEWithLogitsLoss() #- no weights\n",
    "\n",
    "optimizer = torch.optim.Adam(model.parameters(), lr=learning_rate)"
   ]
  },
  {
   "cell_type": "code",
   "execution_count": null,
   "metadata": {},
   "outputs": [],
   "source": [
    "model, train_error, test_error, train_fscore, test_fscore = train_model(dataloaders['train'], \n",
    "                                                                        dataloaders['valid'], model, \n",
    "                                                                        device, criterion,  optimizer, \n",
    "                                                                        num_epochs, \n",
    "                                                                        \"../weights_multimodel_partial\", \n",
    "                                                                        \"\", verbose=True) "
   ]
  },
  {
   "cell_type": "code",
   "execution_count": null,
   "metadata": {},
   "outputs": [],
   "source": [
    "%matplotlib inline\n",
    "showPlot(train_error, test_error, \"Loss trend\", \"Loss\")"
   ]
  },
  {
   "cell_type": "code",
   "execution_count": null,
   "metadata": {},
   "outputs": [],
   "source": [
    "#load the best model\n",
    "model.load_state_dict(torch.load(\"../weights_multimodel_partial/model_epoch_6_.pth\"))\n",
    "model.eval();"
   ]
  },
  {
   "cell_type": "code",
   "execution_count": null,
   "metadata": {},
   "outputs": [],
   "source": [
    "#perform the evaluation\n",
    "%matplotlib inline\n",
    "model.to(device);\n",
    "\n",
    "labels_E, outputs_E = run_test(model, dataloaders['test'], device)\n",
    "\n",
    "compute_metrics(labels_E, outputs_E)"
   ]
  },
  {
   "cell_type": "code",
   "execution_count": null,
   "metadata": {},
   "outputs": [],
   "source": [
    "plot_results(labels_E, outputs_E, target_labels)"
   ]
  },
  {
   "cell_type": "code",
   "execution_count": null,
   "metadata": {},
   "outputs": [],
   "source": [
    "TP = np.sum(((labels_E == 1) * (np.round(outputs_E) == 1)),axis=0)\n",
    "FP = np.sum(((labels_E == 0) * (np.round(outputs_E) == 1)),axis=0)\n",
    "TN = np.sum(((labels_E == 0) * (np.round(outputs_E) == 0)),axis=0)\n",
    "FN = np.sum(((labels_E == 1) * (np.round(outputs_E) == 0)),axis=0)\n",
    "\n",
    "\n",
    "layout = go.Layout(\n",
    "    plot_bgcolor='rgba(0,0,0,0)',\n",
    "    xaxis=dict(\n",
    "    title='Transcription factors'),\n",
    "    yaxis=dict(\n",
    "    title='Sequences'),\n",
    "    font=dict(\n",
    "        family = 'Courier New, monospace',\n",
    "        size = 18,\n",
    "        color='black'\n",
    "    ))\n",
    "\n",
    "fig = go.Figure(data=[\n",
    "        go.Bar(name='TP', x=target_labels, y=TP),\n",
    "        go.Bar(name='FP', x=target_labels, y=FP),\n",
    "        go.Bar(name='TN', x=target_labels, y=TN),\n",
    "        go.Bar(name='FN', x=target_labels, y=FN)\n",
    "    ], layout=layout)\n",
    "    # Change the bar mode\n",
    "fig.update_layout(barmode='stack')\n",
    "\n",
    "fig.update_layout({'width':1000, 'height':500,\n",
    "                         'showlegend':False\n",
    "                         })\n",
    "\n",
    "fig.show()"
   ]
  },
  {
   "cell_type": "code",
   "execution_count": null,
   "metadata": {},
   "outputs": [],
   "source": [
    "no_skill_probs = [0 for _ in range(len(labels_E[:,0]))]\n",
    "ns_fpr, ns_tpr, _ = metrics.roc_curve(labels_E[:,0], no_skill_probs)\n",
    "\n",
    "roc_aucs = {}\n",
    "raw_aucs = {}\n",
    "roc_prcs = {}\n",
    "raw_prcs = {}\n",
    "for i in range(len(target_labels)):\n",
    "    nn_fpr, nn_tpr, threshold = metrics.roc_curve(labels_E[:,i], outputs_E[:,i])\n",
    "    roc_auc_nn = metrics.auc(nn_fpr, nn_tpr)\n",
    "    \n",
    "    precision_nn, recall_nn, thresholds = metrics.precision_recall_curve(labels_E[:,i], outputs_E[:,i])\n",
    "    pr_auc_nn = metrics.auc(recall_nn, precision_nn)\n",
    "    \n",
    "    roc_aucs[target_labels[i]] = nn_fpr, nn_tpr\n",
    "    raw_aucs[target_labels[i]] = roc_auc_nn\n",
    "    \n",
    "    roc_prcs[target_labels[i]] = recall_nn, precision_nn\n",
    "    raw_prcs[target_labels[i]] = pr_auc_nn   "
   ]
  },
  {
   "cell_type": "code",
   "execution_count": null,
   "metadata": {},
   "outputs": [],
   "source": [
    "raw_prcs = pd.Series(raw_prcs).sort_values(ascending=False)\n",
    "raw_aucs = pd.Series(raw_aucs).sort_values(ascending=False)"
   ]
  },
  {
   "cell_type": "code",
   "execution_count": null,
   "metadata": {},
   "outputs": [],
   "source": [
    "raw_aucs = raw_aucs[raw_prcs.index]\n",
    "\n",
    "fig = go.Figure()\n",
    "\n",
    "for i in raw_aucs[:8].index:\n",
    "    fig.add_trace(go.Scatter(x=roc_aucs[i][0], y=roc_aucs[i][1],\n",
    "                    mode='lines',\n",
    "                    name=i))\n",
    "    \n",
    "fig.add_trace(go.Scatter(x=ns_fpr, y=ns_tpr,\n",
    "                    mode='lines',\n",
    "                    name='random'))\n",
    "    \n",
    "fig.update_layout({'width':500, 'height':500,\n",
    "                         'showlegend':True\n",
    "                         })\n",
    "\n",
    "layout = go.Layout(\n",
    "   title = \"\",\n",
    "   xaxis = dict(\n",
    "      title = 'FPR',\n",
    "      titlefont = dict(\n",
    "         family = 'Courier New, monospace',\n",
    "         size = 18,\n",
    "         color = 'black'\n",
    "      )     \n",
    "   ),\n",
    "   yaxis = dict(\n",
    "      title = 'TPR',\n",
    "      titlefont = dict(\n",
    "         family = 'Courier New, monospace',\n",
    "         size = 18,\n",
    "         color = 'black'\n",
    "      )\n",
    "   )\n",
    ")\n",
    "\n",
    "fig.update_layout(layout)\n",
    "\n",
    "fig.update_layout(title_text='', plot_bgcolor='rgba(0,0,0,0)', paper_bgcolor='rgba(0,0,0,0)')\n",
    "#fig.update_xaxes(showline=True, linewidth=2, linecolor='black', title=\"FPR\")#, tickfont=dict(family='Courier New, monospace', color='black', size=18))\n",
    "#fig.update_yaxes(showline=True, linewidth=2, linecolor='black', title=\"TPR\")#, tickfont=dict(family='Courier New, monospace', color='black', size=18))\n",
    "fig.update_xaxes(showline=True, linewidth=2, linecolor='black')\n",
    "fig.update_yaxes(showline=True, linewidth=2, linecolor='black')\n",
    "fig.show()"
   ]
  },
  {
   "cell_type": "code",
   "execution_count": null,
   "metadata": {},
   "outputs": [],
   "source": [
    "fig = go.Figure()\n",
    "\n",
    "for i in raw_prcs[:8].index:\n",
    "    fig.add_trace(go.Scatter(x=roc_prcs[i][0], y=roc_prcs[i][1],\n",
    "                    mode='lines',\n",
    "                    name=i))\n",
    "    \n",
    "fig.update_layout({'width':500, 'height':500,\n",
    "                         'showlegend':False\n",
    "                         })\n",
    "\n",
    "layout = go.Layout(\n",
    "   title = \"\",\n",
    "   xaxis = dict(\n",
    "      title = 'Recall',\n",
    "      titlefont = dict(\n",
    "         family = 'Courier New, monospace',\n",
    "         size = 18,\n",
    "         color = 'black'\n",
    "      )     \n",
    "   ),\n",
    "   yaxis = dict(\n",
    "      title = 'Precision',\n",
    "      titlefont = dict(\n",
    "         family = 'Courier New, monospace',\n",
    "         size = 18,\n",
    "         color = 'black'\n",
    "      )\n",
    "   )\n",
    ")\n",
    "\n",
    "fig.update_layout(layout)\n",
    "\n",
    "fig.update_layout(title_text='', plot_bgcolor='rgba(0,0,0,0)', paper_bgcolor='rgba(0,0,0,0)')\n",
    "#fig.update_xaxes(showline=True, linewidth=2, linecolor='black', title=\"Recall\")\n",
    "#fig.update_yaxes(showline=True, linewidth=2, linecolor='black', title=\"Precision\")\n",
    "fig.update_xaxes(showline=True, linewidth=2, linecolor='black')\n",
    "fig.update_yaxes(showline=True, linewidth=2, linecolor='black')\n",
    "\n",
    "fig.show()"
   ]
  },
  {
   "cell_type": "markdown",
   "metadata": {},
   "source": [
    "## Build a table of results"
   ]
  },
  {
   "cell_type": "code",
   "execution_count": null,
   "metadata": {},
   "outputs": [],
   "source": [
    "import gzip\n",
    "\n",
    "with gzip.open('../data/idx_files/regions_idx.pickle.gz', 'rb') as f:\n",
    "    regions = pickle.load(f) #1817918\n",
    "    \n",
    "with gzip.open('../data/idx_files/samples_idx.pickle.gz', 'rb') as f:\n",
    "    samples = pickle.load(f) #52\n",
    "    \n",
    "with gzip.open('../data/idx_files/tfs_idx.pickle.gz', 'rb') as f:\n",
    "    tfs = pickle.load(f) #163\n",
    "    \n",
    "tfs = pd.Series(tfs).sort_values()\n",
    "regions = pd.Series(regions).sort_values()\n",
    "\n",
    "data = np.load(\"../data/matrices/matrix2d.ReMap+UniBind.partial.npz\")\n",
    "\n",
    "for i in data.files:\n",
    "    matrix2d_partial = data[i] #(1817918, 163)\n",
    "    \n",
    "df = pd.DataFrame(data=matrix2d_partial, index=regions.index, columns=tfs.index)"
   ]
  },
  {
   "cell_type": "code",
   "execution_count": null,
   "metadata": {},
   "outputs": [],
   "source": [
    "data = h5py.File(\"../data/tf_peaks_50_partial.h5\", 'r')\n",
    "labels_train_matrix = np.array(data['train_out'])"
   ]
  },
  {
   "cell_type": "code",
   "execution_count": null,
   "metadata": {},
   "outputs": [],
   "source": [
    "res_df = pd.DataFrame(index=target_labels)\n",
    "\n",
    "all_mcoef = {}\n",
    "for i in range(len(target_labels)):\n",
    "    mcorcoef = matthews_corrcoef(labels_E[:,i], np.round(outputs_E[:,i]))\n",
    "    all_mcoef[target_labels[i]] = mcorcoef\n",
    "all_mcoef = pd.Series(all_mcoef)\n",
    "\n",
    "res_df[\"Ones_all\"] = (df == 1).astype(int).sum()[target_labels]\n",
    "res_df[\"Zeros_all\"] = (df == 0).astype(int).sum()[target_labels]\n",
    "res_df[\"NaN_all\"] = df.isna().sum()[target_labels]\n",
    "res_df[\"Ones_train\"] = labels_train_matrix.sum(axis=0)\n",
    "res_df[\"Zeros_train\"] = (labels_train_matrix == 0).sum(axis=0)\n",
    "res_df[\"TP\"] = ((labels_E == 1) * (np.round(outputs_E) == 1)).sum(axis=0)\n",
    "res_df[\"FP\"] = ((labels_E == 0) * (np.round(outputs_E) == 1)).sum(axis=0)\n",
    "res_df[\"TN\"] = ((labels_E == 0) * (np.round(outputs_E) == 0)).sum(axis=0)\n",
    "res_df[\"FN\"] = ((labels_E == 1) * (np.round(outputs_E) == 0)).sum(axis=0)\n",
    "res_df[\"AUROC\"] = raw_aucs[target_labels]\n",
    "res_df[\"AUPRC\"] = raw_prcs[target_labels]\n",
    "res_df[\"MCC\"] = all_mcoef[target_labels]"
   ]
  },
  {
   "cell_type": "code",
   "execution_count": null,
   "metadata": {},
   "outputs": [],
   "source": [
    "res_df.to_csv(\"../data/multimodel_results_df.tsv\", sep=\"\\t\")"
   ]
  }
 ],
 "metadata": {
  "kernelspec": {
   "display_name": "Python 3",
   "language": "python",
   "name": "python3"
  },
  "language_info": {
   "codemirror_mode": {
    "name": "ipython",
    "version": 3
   },
   "file_extension": ".py",
   "mimetype": "text/x-python",
   "name": "python",
   "nbconvert_exporter": "python",
   "pygments_lexer": "ipython3",
   "version": "3.8.1"
  }
 },
 "nbformat": 4,
 "nbformat_minor": 4
}
